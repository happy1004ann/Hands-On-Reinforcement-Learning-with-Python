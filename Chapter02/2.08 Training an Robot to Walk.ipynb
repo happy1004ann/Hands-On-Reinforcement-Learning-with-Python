{
 "cells": [
  {
   "attachments": {},
   "cell_type": "markdown",
   "metadata": {},
   "source": [
    "# Training an agent to Walk"
   ]
  },
  {
   "attachments": {},
   "cell_type": "markdown",
   "metadata": {},
   "source": [
    "Now let us learn how to train a robot to walk using Gym along with some fundamentals.\n",
    "The strategy is that reward X points will be given when the robot moves forward and if the\n",
    "robot fails to move then Y points will be reduced. So the robot will learn to walk in the\n",
    "event of maximizing the reward.\n",
    "\n",
    "First, we will import the library, then we will create a simulation instance by `make`\n",
    "function. \n",
    "\n",
    "\n",
    "Open AI Gym provides an environment called `BipedalWalker-v3` for training\n",
    "robotic agents in simple terrain. "
   ]
  },
  {
   "cell_type": "code",
   "execution_count": null,
   "metadata": {},
   "outputs": [],
   "source": [
    "import gymnasium as gym\n",
    "print(f'Gymnasium v{gym.__version__}')\n",
    "\n",
    "# Only for specifying versions\n",
    "import sys; print(f'Python v{sys.version}')"
   ]
  },
  {
   "cell_type": "code",
   "execution_count": 3,
   "metadata": {
    "collapsed": true
   },
   "outputs": [],
   "source": [
    "env = gym.make('BipedalWalker-v3', render_mode='human')"
   ]
  },
  {
   "attachments": {},
   "cell_type": "markdown",
   "metadata": {},
   "source": [
    "Then for each episode (Agent-Environment interaction between initial and final state), we\n",
    "will initialize the environment using `reset` method."
   ]
  },
  {
   "cell_type": "code",
   "execution_count": 4,
   "metadata": {
    "collapsed": true
   },
   "outputs": [
    {
     "name": "stderr",
     "output_type": "stream",
     "text": [
      "c:\\Users\\HyeAnn\\anaconda3\\envs\\HORLwPython\\lib\\site-packages\\gymnasium\\utils\\passive_env_checker.py:233: DeprecationWarning: `np.bool8` is a deprecated alias for `np.bool_`.  (Deprecated NumPy 1.24)\n",
      "  if not isinstance(terminated, (bool, np.bool8)):\n"
     ]
    },
    {
     "name": "stdout",
     "output_type": "stream",
     "text": [
      "118 timesteps taken for the Episode\n",
      "1600 timesteps taken for the Episode\n",
      "90 timesteps taken for the Episode\n",
      "69 timesteps taken for the Episode\n",
      "80 timesteps taken for the Episode\n",
      "88 timesteps taken for the Episode\n",
      "107 timesteps taken for the Episode\n",
      "84 timesteps taken for the Episode\n",
      "66 timesteps taken for the Episode\n",
      "1600 timesteps taken for the Episode\n",
      "1600 timesteps taken for the Episode\n",
      "59 timesteps taken for the Episode\n",
      "53 timesteps taken for the Episode\n",
      "1600 timesteps taken for the Episode\n",
      "75 timesteps taken for the Episode\n",
      "66 timesteps taken for the Episode\n",
      "61 timesteps taken for the Episode\n",
      "1600 timesteps taken for the Episode\n",
      "1600 timesteps taken for the Episode\n",
      "68 timesteps taken for the Episode\n",
      "49 timesteps taken for the Episode\n",
      "102 timesteps taken for the Episode\n",
      "109 timesteps taken for the Episode\n",
      "1600 timesteps taken for the Episode\n",
      "77 timesteps taken for the Episode\n",
      "55 timesteps taken for the Episode\n",
      "1600 timesteps taken for the Episode\n",
      "1600 timesteps taken for the Episode\n",
      "1600 timesteps taken for the Episode\n",
      "109 timesteps taken for the Episode\n",
      "82 timesteps taken for the Episode\n",
      "1600 timesteps taken for the Episode\n",
      "72 timesteps taken for the Episode\n",
      "1600 timesteps taken for the Episode\n",
      "98 timesteps taken for the Episode\n",
      "1600 timesteps taken for the Episode\n",
      "1600 timesteps taken for the Episode\n",
      "67 timesteps taken for the Episode\n",
      "130 timesteps taken for the Episode\n",
      "1600 timesteps taken for the Episode\n",
      "62 timesteps taken for the Episode\n",
      "113 timesteps taken for the Episode\n",
      "66 timesteps taken for the Episode\n",
      "1600 timesteps taken for the Episode\n",
      "80 timesteps taken for the Episode\n",
      "101 timesteps taken for the Episode\n",
      "1600 timesteps taken for the Episode\n",
      "94 timesteps taken for the Episode\n",
      "73 timesteps taken for the Episode\n",
      "81 timesteps taken for the Episode\n",
      "61 timesteps taken for the Episode\n",
      "50 timesteps taken for the Episode\n",
      "1600 timesteps taken for the Episode\n",
      "1600 timesteps taken for the Episode\n",
      "1600 timesteps taken for the Episode\n",
      "45 timesteps taken for the Episode\n",
      "133 timesteps taken for the Episode\n",
      "48 timesteps taken for the Episode\n",
      "71 timesteps taken for the Episode\n",
      "65 timesteps taken for the Episode\n",
      "45 timesteps taken for the Episode\n",
      "50 timesteps taken for the Episode\n",
      "1600 timesteps taken for the Episode\n",
      "64 timesteps taken for the Episode\n",
      "94 timesteps taken for the Episode\n",
      "83 timesteps taken for the Episode\n",
      "78 timesteps taken for the Episode\n",
      "1600 timesteps taken for the Episode\n",
      "1600 timesteps taken for the Episode\n",
      "1600 timesteps taken for the Episode\n",
      "57 timesteps taken for the Episode\n",
      "61 timesteps taken for the Episode\n",
      "77 timesteps taken for the Episode\n",
      "59 timesteps taken for the Episode\n",
      "1600 timesteps taken for the Episode\n",
      "74 timesteps taken for the Episode\n",
      "90 timesteps taken for the Episode\n",
      "106 timesteps taken for the Episode\n",
      "62 timesteps taken for the Episode\n",
      "1600 timesteps taken for the Episode\n",
      "1600 timesteps taken for the Episode\n",
      "1600 timesteps taken for the Episode\n",
      "1600 timesteps taken for the Episode\n",
      "69 timesteps taken for the Episode\n",
      "64 timesteps taken for the Episode\n",
      "101 timesteps taken for the Episode\n",
      "1600 timesteps taken for the Episode\n",
      "1600 timesteps taken for the Episode\n",
      "61 timesteps taken for the Episode\n",
      "1600 timesteps taken for the Episode\n",
      "114 timesteps taken for the Episode\n",
      "101 timesteps taken for the Episode\n",
      "65 timesteps taken for the Episode\n",
      "80 timesteps taken for the Episode\n",
      "69 timesteps taken for the Episode\n",
      "98 timesteps taken for the Episode\n",
      "78 timesteps taken for the Episode\n",
      "69 timesteps taken for the Episode\n",
      "172 timesteps taken for the Episode\n",
      "63 timesteps taken for the Episode\n"
     ]
    }
   ],
   "source": [
    "for episode in range(100):\n",
    "    observation = env.reset()\n",
    "    \n",
    "    # Render the environment on each step \n",
    "    for i in range(10000):\n",
    "        env.render()\n",
    "        \n",
    "        # we choose action by sampling random action from environment's action space. Every environment has\n",
    "        # some action space which contains the all possible valid actions and observations,\n",
    "        \n",
    "        action = env.action_space.sample()\n",
    "    \n",
    "        # Then for each step, we will record the observation, reward, done, info\n",
    "        observation, reward, terminated, truncated, info = env.step(action)\n",
    "    \n",
    "        # When done is true, we print the time steps taken for the episode and break the current episode.\n",
    "        if terminated or truncated:\n",
    "            print(f\"{i+1} timesteps taken for the Episode\")\n",
    "            break"
   ]
  },
  {
   "attachments": {},
   "cell_type": "markdown",
   "metadata": {},
   "source": [
    "The agent will learn by trail and error and over a period of time it starts selecting actions which gives the\n",
    "maximum rewards."
   ]
  }
 ],
 "metadata": {
  "kernelspec": {
   "display_name": "HORLwPython",
   "language": "python",
   "name": "python3"
  },
  "language_info": {
   "codemirror_mode": {
    "name": "ipython",
    "version": 3
   },
   "file_extension": ".py",
   "mimetype": "text/x-python",
   "name": "python",
   "nbconvert_exporter": "python",
   "pygments_lexer": "ipython3",
   "version": "3.9.16"
  }
 },
 "nbformat": 4,
 "nbformat_minor": 2
}
